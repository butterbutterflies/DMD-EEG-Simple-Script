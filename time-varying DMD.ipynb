{
 "cells": [
  {
   "cell_type": "code",
   "execution_count": 1,
   "id": "a540fa07",
   "metadata": {},
   "outputs": [
    {
     "name": "stdout",
     "output_type": "stream",
     "text": [
      "(64, 300, 99)\n"
     ]
    }
   ],
   "source": [
    "import numpy as np\n",
    "import matplotlib.pyplot as plt\n",
    "import scipy.io\n",
    "\n",
    "file_path = 'D:/BCI_RL/important/ErrP/DMD/code/IncDMD/'\n",
    "sub = ['1', '2', '3', '4', '5', '6']\n",
    "ses = ['1', '2']\n",
    "file_name = file_path+'Subject0'+sub[2]+'_s'+ses[0]+'.mat'\n",
    "\n",
    "epoch_eeg = scipy.io.loadmat(file_name)['errorTrial']\n",
    "print(epoch_eeg.shape)  "
   ]
  },
  {
   "cell_type": "code",
   "execution_count": 2,
   "id": "9329b290",
   "metadata": {},
   "outputs": [
    {
     "name": "stdout",
     "output_type": "stream",
     "text": [
      "10\n",
      "(640, 291)\n"
     ]
    }
   ],
   "source": [
    "import math \n",
    "\n",
    "trial = epoch_eeg[:,:,3]  # nchannel * time points\n",
    "\n",
    "# EEG stack\n",
    "m = trial.shape[0]  # 行\n",
    "n = trial.shape[1]  # 列\n",
    "nstack = math.ceil(n*2 / (m+2))\n",
    "\n",
    "aug_trial = np.array(trial[:,0:n-nstack+0+1])\n",
    "for st in range(1, nstack):\n",
    "    aug_trial = np.vstack((aug_trial, trial[:,st:n-nstack+st+1]))\n",
    "print(nstack)\n",
    "print(aug_trial.shape)"
   ]
  },
  {
   "cell_type": "code",
   "execution_count": 3,
   "id": "4ef3c1e8",
   "metadata": {},
   "outputs": [],
   "source": [
    "from pydmd import DMD\n",
    "\n",
    "# dmd = DMD(svd_rank=0, tlsq_rank=100, exact=True, opt=True, rescale_mode='auto')\n",
    "\n",
    "# dmd_f = dmd.frequency / dt\n",
    "# dmd_phi = dmd.modes\n",
    "# dmd_dynamic = dmd.dynamics\n",
    "# dmd_b = dmd.amplitudes\n",
    "\n",
    "# print(dmd_f.size)\n",
    "\n",
    "# recon_trial = dmd.reconstructed_data\n",
    "\n",
    "# plt.plot(aug_trial[46], label='original signal')\n",
    "# plt.plot(recon_trial[46].real, label='reconstruction signal')\n",
    "# plt.legend()\n",
    "# plt.xlabel('time(s)')\n",
    "# plt.ylabel('Channel FCz')\n",
    "# plt.show()"
   ]
  },
  {
   "cell_type": "code",
   "execution_count": 4,
   "id": "6063edfe",
   "metadata": {},
   "outputs": [],
   "source": [
    "# 初始阶段\n",
    "sampleRate = 300\n",
    "dt = 1 / sampleRate\n",
    "bidx = int(0.2*sampleRate)\n",
    "\n",
    "fbpack = []\n",
    "\n",
    "# seg_trial = aug_trial[:, 3:bidx+3]\n",
    "# print(seg_trial.shape)\n",
    "\n",
    "# dmd.fit(seg_trial)\n",
    "# dmd_f = dmd.frequency / dt\n",
    "# print(dmd_f)\n",
    "# dmd_b = dmd.amplitudes\n",
    "# idx = [i for i in range(len(dmd_f)) if abs(dmd_f[i])>= 1 and abs(dmd_f[i])<25]\n",
    "# b = dmd_b[idx][::2]\n",
    "# f = dmd_f[idx][::2]   # 只包含正频率点\n",
    "# fb = list(zip(f[:7], b[:7]))\n",
    "# fb.sort(key=lambda x:x[0])\n",
    "# print(len(fb))\n",
    "# print(fb)\n",
    "\n",
    "# fbpack.append(fb)"
   ]
  },
  {
   "cell_type": "code",
   "execution_count": 5,
   "id": "0b8b3b0f",
   "metadata": {},
   "outputs": [
    {
     "name": "stderr",
     "output_type": "stream",
     "text": [
      "C:\\software\\anaconda\\envs\\pytorch-gpu\\lib\\site-packages\\pydmd\\dmdbase.py:351: UserWarning: Input data matrix X has condition number 96950880.89573553. Consider preprocessing data, passing in augmented data matrix, or regularization methods.\n",
      "  cond_number\n",
      "C:\\software\\anaconda\\envs\\pytorch-gpu\\lib\\site-packages\\pydmd\\dmdbase.py:351: UserWarning: Input data matrix X has condition number 97096539.49010037. Consider preprocessing data, passing in augmented data matrix, or regularization methods.\n",
      "  cond_number\n",
      "C:\\software\\anaconda\\envs\\pytorch-gpu\\lib\\site-packages\\pydmd\\dmdbase.py:351: UserWarning: Input data matrix X has condition number 97106219.71263553. Consider preprocessing data, passing in augmented data matrix, or regularization methods.\n",
      "  cond_number\n",
      "C:\\software\\anaconda\\envs\\pytorch-gpu\\lib\\site-packages\\pydmd\\dmdbase.py:351: UserWarning: Input data matrix X has condition number 96770907.7427263. Consider preprocessing data, passing in augmented data matrix, or regularization methods.\n",
      "  cond_number\n",
      "C:\\software\\anaconda\\envs\\pytorch-gpu\\lib\\site-packages\\pydmd\\dmdbase.py:351: UserWarning: Input data matrix X has condition number 96950922.05607605. Consider preprocessing data, passing in augmented data matrix, or regularization methods.\n",
      "  cond_number\n",
      "C:\\software\\anaconda\\envs\\pytorch-gpu\\lib\\site-packages\\pydmd\\dmdbase.py:351: UserWarning: Input data matrix X has condition number 96645511.40315035. Consider preprocessing data, passing in augmented data matrix, or regularization methods.\n",
      "  cond_number\n",
      "C:\\software\\anaconda\\envs\\pytorch-gpu\\lib\\site-packages\\pydmd\\dmdbase.py:351: UserWarning: Input data matrix X has condition number 95234990.27826667. Consider preprocessing data, passing in augmented data matrix, or regularization methods.\n",
      "  cond_number\n",
      "C:\\software\\anaconda\\envs\\pytorch-gpu\\lib\\site-packages\\pydmd\\dmdbase.py:351: UserWarning: Input data matrix X has condition number 95389163.92367084. Consider preprocessing data, passing in augmented data matrix, or regularization methods.\n",
      "  cond_number\n",
      "C:\\software\\anaconda\\envs\\pytorch-gpu\\lib\\site-packages\\pydmd\\dmdbase.py:351: UserWarning: Input data matrix X has condition number 95934074.94285038. Consider preprocessing data, passing in augmented data matrix, or regularization methods.\n",
      "  cond_number\n",
      "C:\\software\\anaconda\\envs\\pytorch-gpu\\lib\\site-packages\\pydmd\\dmdbase.py:351: UserWarning: Input data matrix X has condition number 96382255.9244072. Consider preprocessing data, passing in augmented data matrix, or regularization methods.\n",
      "  cond_number\n",
      "C:\\software\\anaconda\\envs\\pytorch-gpu\\lib\\site-packages\\pydmd\\dmdbase.py:351: UserWarning: Input data matrix X has condition number 96718118.2108975. Consider preprocessing data, passing in augmented data matrix, or regularization methods.\n",
      "  cond_number\n",
      "C:\\software\\anaconda\\envs\\pytorch-gpu\\lib\\site-packages\\pydmd\\dmdbase.py:351: UserWarning: Input data matrix X has condition number 96916987.3640723. Consider preprocessing data, passing in augmented data matrix, or regularization methods.\n",
      "  cond_number\n",
      "C:\\software\\anaconda\\envs\\pytorch-gpu\\lib\\site-packages\\pydmd\\dmdbase.py:351: UserWarning: Input data matrix X has condition number 96723208.96160804. Consider preprocessing data, passing in augmented data matrix, or regularization methods.\n",
      "  cond_number\n",
      "C:\\software\\anaconda\\envs\\pytorch-gpu\\lib\\site-packages\\pydmd\\dmdbase.py:351: UserWarning: Input data matrix X has condition number 96394775.21188655. Consider preprocessing data, passing in augmented data matrix, or regularization methods.\n",
      "  cond_number\n",
      "C:\\software\\anaconda\\envs\\pytorch-gpu\\lib\\site-packages\\pydmd\\dmdbase.py:351: UserWarning: Input data matrix X has condition number 96376607.22585462. Consider preprocessing data, passing in augmented data matrix, or regularization methods.\n",
      "  cond_number\n",
      "C:\\software\\anaconda\\envs\\pytorch-gpu\\lib\\site-packages\\pydmd\\dmdbase.py:351: UserWarning: Input data matrix X has condition number 96433899.5709929. Consider preprocessing data, passing in augmented data matrix, or regularization methods.\n",
      "  cond_number\n",
      "C:\\software\\anaconda\\envs\\pytorch-gpu\\lib\\site-packages\\pydmd\\dmdbase.py:351: UserWarning: Input data matrix X has condition number 96946502.05282292. Consider preprocessing data, passing in augmented data matrix, or regularization methods.\n",
      "  cond_number\n",
      "C:\\software\\anaconda\\envs\\pytorch-gpu\\lib\\site-packages\\pydmd\\dmdbase.py:351: UserWarning: Input data matrix X has condition number 97852134.9633996. Consider preprocessing data, passing in augmented data matrix, or regularization methods.\n",
      "  cond_number\n",
      "C:\\software\\anaconda\\envs\\pytorch-gpu\\lib\\site-packages\\pydmd\\dmdbase.py:351: UserWarning: Input data matrix X has condition number 98065639.50412016. Consider preprocessing data, passing in augmented data matrix, or regularization methods.\n",
      "  cond_number\n",
      "C:\\software\\anaconda\\envs\\pytorch-gpu\\lib\\site-packages\\pydmd\\dmdbase.py:351: UserWarning: Input data matrix X has condition number 96513089.8889368. Consider preprocessing data, passing in augmented data matrix, or regularization methods.\n",
      "  cond_number\n",
      "C:\\software\\anaconda\\envs\\pytorch-gpu\\lib\\site-packages\\pydmd\\dmdbase.py:351: UserWarning: Input data matrix X has condition number 96699797.87482691. Consider preprocessing data, passing in augmented data matrix, or regularization methods.\n",
      "  cond_number\n",
      "C:\\software\\anaconda\\envs\\pytorch-gpu\\lib\\site-packages\\pydmd\\dmdbase.py:351: UserWarning: Input data matrix X has condition number 97073901.90429433. Consider preprocessing data, passing in augmented data matrix, or regularization methods.\n",
      "  cond_number\n",
      "C:\\software\\anaconda\\envs\\pytorch-gpu\\lib\\site-packages\\pydmd\\dmdbase.py:351: UserWarning: Input data matrix X has condition number 97477875.06016529. Consider preprocessing data, passing in augmented data matrix, or regularization methods.\n",
      "  cond_number\n",
      "C:\\software\\anaconda\\envs\\pytorch-gpu\\lib\\site-packages\\pydmd\\dmdbase.py:351: UserWarning: Input data matrix X has condition number 100723440.83388852. Consider preprocessing data, passing in augmented data matrix, or regularization methods.\n",
      "  cond_number\n",
      "C:\\software\\anaconda\\envs\\pytorch-gpu\\lib\\site-packages\\pydmd\\dmdbase.py:351: UserWarning: Input data matrix X has condition number 103473950.03942774. Consider preprocessing data, passing in augmented data matrix, or regularization methods.\n",
      "  cond_number\n",
      "C:\\software\\anaconda\\envs\\pytorch-gpu\\lib\\site-packages\\pydmd\\dmdbase.py:351: UserWarning: Input data matrix X has condition number 106821307.43135473. Consider preprocessing data, passing in augmented data matrix, or regularization methods.\n",
      "  cond_number\n",
      "C:\\software\\anaconda\\envs\\pytorch-gpu\\lib\\site-packages\\pydmd\\dmdbase.py:351: UserWarning: Input data matrix X has condition number 111514460.5374418. Consider preprocessing data, passing in augmented data matrix, or regularization methods.\n",
      "  cond_number\n",
      "C:\\software\\anaconda\\envs\\pytorch-gpu\\lib\\site-packages\\pydmd\\dmdbase.py:351: UserWarning: Input data matrix X has condition number 113783086.58278176. Consider preprocessing data, passing in augmented data matrix, or regularization methods.\n",
      "  cond_number\n",
      "C:\\software\\anaconda\\envs\\pytorch-gpu\\lib\\site-packages\\pydmd\\dmdbase.py:351: UserWarning: Input data matrix X has condition number 115309846.0665841. Consider preprocessing data, passing in augmented data matrix, or regularization methods.\n",
      "  cond_number\n",
      "C:\\software\\anaconda\\envs\\pytorch-gpu\\lib\\site-packages\\pydmd\\dmdbase.py:351: UserWarning: Input data matrix X has condition number 115449314.00290558. Consider preprocessing data, passing in augmented data matrix, or regularization methods.\n",
      "  cond_number\n",
      "C:\\software\\anaconda\\envs\\pytorch-gpu\\lib\\site-packages\\pydmd\\dmdbase.py:351: UserWarning: Input data matrix X has condition number 114483633.25910866. Consider preprocessing data, passing in augmented data matrix, or regularization methods.\n",
      "  cond_number\n",
      "C:\\software\\anaconda\\envs\\pytorch-gpu\\lib\\site-packages\\pydmd\\dmdbase.py:351: UserWarning: Input data matrix X has condition number 113854646.06431714. Consider preprocessing data, passing in augmented data matrix, or regularization methods.\n",
      "  cond_number\n",
      "C:\\software\\anaconda\\envs\\pytorch-gpu\\lib\\site-packages\\pydmd\\dmdbase.py:351: UserWarning: Input data matrix X has condition number 115241720.50739297. Consider preprocessing data, passing in augmented data matrix, or regularization methods.\n",
      "  cond_number\n",
      "C:\\software\\anaconda\\envs\\pytorch-gpu\\lib\\site-packages\\pydmd\\dmdbase.py:351: UserWarning: Input data matrix X has condition number 115074383.56976895. Consider preprocessing data, passing in augmented data matrix, or regularization methods.\n",
      "  cond_number\n",
      "C:\\software\\anaconda\\envs\\pytorch-gpu\\lib\\site-packages\\pydmd\\dmdbase.py:351: UserWarning: Input data matrix X has condition number 116652189.30611743. Consider preprocessing data, passing in augmented data matrix, or regularization methods.\n",
      "  cond_number\n",
      "C:\\software\\anaconda\\envs\\pytorch-gpu\\lib\\site-packages\\pydmd\\dmdbase.py:351: UserWarning: Input data matrix X has condition number 118506350.10320294. Consider preprocessing data, passing in augmented data matrix, or regularization methods.\n",
      "  cond_number\n",
      "C:\\software\\anaconda\\envs\\pytorch-gpu\\lib\\site-packages\\pydmd\\dmdbase.py:351: UserWarning: Input data matrix X has condition number 119642934.02933608. Consider preprocessing data, passing in augmented data matrix, or regularization methods.\n",
      "  cond_number\n",
      "C:\\software\\anaconda\\envs\\pytorch-gpu\\lib\\site-packages\\pydmd\\dmdbase.py:351: UserWarning: Input data matrix X has condition number 120575156.0296487. Consider preprocessing data, passing in augmented data matrix, or regularization methods.\n",
      "  cond_number\n",
      "C:\\software\\anaconda\\envs\\pytorch-gpu\\lib\\site-packages\\pydmd\\dmdbase.py:351: UserWarning: Input data matrix X has condition number 122068764.26183447. Consider preprocessing data, passing in augmented data matrix, or regularization methods.\n",
      "  cond_number\n",
      "C:\\software\\anaconda\\envs\\pytorch-gpu\\lib\\site-packages\\pydmd\\dmdbase.py:351: UserWarning: Input data matrix X has condition number 123253954.4270287. Consider preprocessing data, passing in augmented data matrix, or regularization methods.\n",
      "  cond_number\n",
      "C:\\software\\anaconda\\envs\\pytorch-gpu\\lib\\site-packages\\pydmd\\dmdbase.py:351: UserWarning: Input data matrix X has condition number 124286288.06971297. Consider preprocessing data, passing in augmented data matrix, or regularization methods.\n",
      "  cond_number\n",
      "C:\\software\\anaconda\\envs\\pytorch-gpu\\lib\\site-packages\\pydmd\\dmdbase.py:351: UserWarning: Input data matrix X has condition number 123959833.05307241. Consider preprocessing data, passing in augmented data matrix, or regularization methods.\n",
      "  cond_number\n"
     ]
    },
    {
     "name": "stderr",
     "output_type": "stream",
     "text": [
      "C:\\software\\anaconda\\envs\\pytorch-gpu\\lib\\site-packages\\pydmd\\dmdbase.py:351: UserWarning: Input data matrix X has condition number 122961887.45258693. Consider preprocessing data, passing in augmented data matrix, or regularization methods.\n",
      "  cond_number\n",
      "C:\\software\\anaconda\\envs\\pytorch-gpu\\lib\\site-packages\\pydmd\\dmdbase.py:351: UserWarning: Input data matrix X has condition number 121523543.5485741. Consider preprocessing data, passing in augmented data matrix, or regularization methods.\n",
      "  cond_number\n",
      "C:\\software\\anaconda\\envs\\pytorch-gpu\\lib\\site-packages\\pydmd\\dmdbase.py:351: UserWarning: Input data matrix X has condition number 117358197.7003772. Consider preprocessing data, passing in augmented data matrix, or regularization methods.\n",
      "  cond_number\n",
      "C:\\software\\anaconda\\envs\\pytorch-gpu\\lib\\site-packages\\pydmd\\dmdbase.py:351: UserWarning: Input data matrix X has condition number 111532853.52687551. Consider preprocessing data, passing in augmented data matrix, or regularization methods.\n",
      "  cond_number\n",
      "C:\\software\\anaconda\\envs\\pytorch-gpu\\lib\\site-packages\\pydmd\\dmdbase.py:351: UserWarning: Input data matrix X has condition number 107080041.14705585. Consider preprocessing data, passing in augmented data matrix, or regularization methods.\n",
      "  cond_number\n",
      "C:\\software\\anaconda\\envs\\pytorch-gpu\\lib\\site-packages\\pydmd\\dmdbase.py:351: UserWarning: Input data matrix X has condition number 101551988.51669382. Consider preprocessing data, passing in augmented data matrix, or regularization methods.\n",
      "  cond_number\n",
      "C:\\software\\anaconda\\envs\\pytorch-gpu\\lib\\site-packages\\pydmd\\dmdbase.py:351: UserWarning: Input data matrix X has condition number 96584978.5006752. Consider preprocessing data, passing in augmented data matrix, or regularization methods.\n",
      "  cond_number\n",
      "C:\\software\\anaconda\\envs\\pytorch-gpu\\lib\\site-packages\\pydmd\\dmdbase.py:351: UserWarning: Input data matrix X has condition number 92799714.56605193. Consider preprocessing data, passing in augmented data matrix, or regularization methods.\n",
      "  cond_number\n",
      "C:\\software\\anaconda\\envs\\pytorch-gpu\\lib\\site-packages\\pydmd\\dmdbase.py:351: UserWarning: Input data matrix X has condition number 90643234.40617758. Consider preprocessing data, passing in augmented data matrix, or regularization methods.\n",
      "  cond_number\n",
      "C:\\software\\anaconda\\envs\\pytorch-gpu\\lib\\site-packages\\pydmd\\dmdbase.py:351: UserWarning: Input data matrix X has condition number 89013223.13107933. Consider preprocessing data, passing in augmented data matrix, or regularization methods.\n",
      "  cond_number\n",
      "C:\\software\\anaconda\\envs\\pytorch-gpu\\lib\\site-packages\\pydmd\\dmdbase.py:351: UserWarning: Input data matrix X has condition number 86487288.73265995. Consider preprocessing data, passing in augmented data matrix, or regularization methods.\n",
      "  cond_number\n",
      "C:\\software\\anaconda\\envs\\pytorch-gpu\\lib\\site-packages\\pydmd\\dmdbase.py:351: UserWarning: Input data matrix X has condition number 85278788.60292466. Consider preprocessing data, passing in augmented data matrix, or regularization methods.\n",
      "  cond_number\n",
      "C:\\software\\anaconda\\envs\\pytorch-gpu\\lib\\site-packages\\pydmd\\dmdbase.py:351: UserWarning: Input data matrix X has condition number 85933970.25613305. Consider preprocessing data, passing in augmented data matrix, or regularization methods.\n",
      "  cond_number\n",
      "C:\\software\\anaconda\\envs\\pytorch-gpu\\lib\\site-packages\\pydmd\\dmdbase.py:351: UserWarning: Input data matrix X has condition number 86940715.07363352. Consider preprocessing data, passing in augmented data matrix, or regularization methods.\n",
      "  cond_number\n",
      "C:\\software\\anaconda\\envs\\pytorch-gpu\\lib\\site-packages\\pydmd\\dmdbase.py:351: UserWarning: Input data matrix X has condition number 88916556.18647079. Consider preprocessing data, passing in augmented data matrix, or regularization methods.\n",
      "  cond_number\n",
      "C:\\software\\anaconda\\envs\\pytorch-gpu\\lib\\site-packages\\pydmd\\dmdbase.py:351: UserWarning: Input data matrix X has condition number 90183303.10953751. Consider preprocessing data, passing in augmented data matrix, or regularization methods.\n",
      "  cond_number\n",
      "C:\\software\\anaconda\\envs\\pytorch-gpu\\lib\\site-packages\\pydmd\\dmdbase.py:351: UserWarning: Input data matrix X has condition number 90781908.80306795. Consider preprocessing data, passing in augmented data matrix, or regularization methods.\n",
      "  cond_number\n",
      "C:\\software\\anaconda\\envs\\pytorch-gpu\\lib\\site-packages\\pydmd\\dmdbase.py:351: UserWarning: Input data matrix X has condition number 90652702.67685819. Consider preprocessing data, passing in augmented data matrix, or regularization methods.\n",
      "  cond_number\n",
      "C:\\software\\anaconda\\envs\\pytorch-gpu\\lib\\site-packages\\pydmd\\dmdbase.py:351: UserWarning: Input data matrix X has condition number 90386090.10816364. Consider preprocessing data, passing in augmented data matrix, or regularization methods.\n",
      "  cond_number\n",
      "C:\\software\\anaconda\\envs\\pytorch-gpu\\lib\\site-packages\\pydmd\\dmdbase.py:351: UserWarning: Input data matrix X has condition number 89677502.79148161. Consider preprocessing data, passing in augmented data matrix, or regularization methods.\n",
      "  cond_number\n",
      "C:\\software\\anaconda\\envs\\pytorch-gpu\\lib\\site-packages\\pydmd\\dmdbase.py:351: UserWarning: Input data matrix X has condition number 88630393.3521309. Consider preprocessing data, passing in augmented data matrix, or regularization methods.\n",
      "  cond_number\n",
      "C:\\software\\anaconda\\envs\\pytorch-gpu\\lib\\site-packages\\pydmd\\dmdbase.py:351: UserWarning: Input data matrix X has condition number 87631860.94491696. Consider preprocessing data, passing in augmented data matrix, or regularization methods.\n",
      "  cond_number\n",
      "C:\\software\\anaconda\\envs\\pytorch-gpu\\lib\\site-packages\\pydmd\\dmdbase.py:351: UserWarning: Input data matrix X has condition number 86190792.28232934. Consider preprocessing data, passing in augmented data matrix, or regularization methods.\n",
      "  cond_number\n",
      "C:\\software\\anaconda\\envs\\pytorch-gpu\\lib\\site-packages\\pydmd\\dmdbase.py:351: UserWarning: Input data matrix X has condition number 85760803.09543987. Consider preprocessing data, passing in augmented data matrix, or regularization methods.\n",
      "  cond_number\n",
      "C:\\software\\anaconda\\envs\\pytorch-gpu\\lib\\site-packages\\pydmd\\dmdbase.py:351: UserWarning: Input data matrix X has condition number 86376596.64324586. Consider preprocessing data, passing in augmented data matrix, or regularization methods.\n",
      "  cond_number\n",
      "C:\\software\\anaconda\\envs\\pytorch-gpu\\lib\\site-packages\\pydmd\\dmdbase.py:351: UserWarning: Input data matrix X has condition number 87475347.46286032. Consider preprocessing data, passing in augmented data matrix, or regularization methods.\n",
      "  cond_number\n",
      "C:\\software\\anaconda\\envs\\pytorch-gpu\\lib\\site-packages\\pydmd\\dmdbase.py:351: UserWarning: Input data matrix X has condition number 89187192.32276618. Consider preprocessing data, passing in augmented data matrix, or regularization methods.\n",
      "  cond_number\n",
      "C:\\software\\anaconda\\envs\\pytorch-gpu\\lib\\site-packages\\pydmd\\dmdbase.py:351: UserWarning: Input data matrix X has condition number 89814040.4960882. Consider preprocessing data, passing in augmented data matrix, or regularization methods.\n",
      "  cond_number\n",
      "C:\\software\\anaconda\\envs\\pytorch-gpu\\lib\\site-packages\\pydmd\\dmdbase.py:351: UserWarning: Input data matrix X has condition number 91373492.28715204. Consider preprocessing data, passing in augmented data matrix, or regularization methods.\n",
      "  cond_number\n",
      "C:\\software\\anaconda\\envs\\pytorch-gpu\\lib\\site-packages\\pydmd\\dmdbase.py:351: UserWarning: Input data matrix X has condition number 93350936.16048607. Consider preprocessing data, passing in augmented data matrix, or regularization methods.\n",
      "  cond_number\n",
      "C:\\software\\anaconda\\envs\\pytorch-gpu\\lib\\site-packages\\pydmd\\dmdbase.py:351: UserWarning: Input data matrix X has condition number 95042376.96941005. Consider preprocessing data, passing in augmented data matrix, or regularization methods.\n",
      "  cond_number\n",
      "C:\\software\\anaconda\\envs\\pytorch-gpu\\lib\\site-packages\\pydmd\\dmdbase.py:351: UserWarning: Input data matrix X has condition number 96907054.70407507. Consider preprocessing data, passing in augmented data matrix, or regularization methods.\n",
      "  cond_number\n",
      "C:\\software\\anaconda\\envs\\pytorch-gpu\\lib\\site-packages\\pydmd\\dmdbase.py:351: UserWarning: Input data matrix X has condition number 98724709.98912849. Consider preprocessing data, passing in augmented data matrix, or regularization methods.\n",
      "  cond_number\n"
     ]
    },
    {
     "name": "stderr",
     "output_type": "stream",
     "text": [
      "C:\\software\\anaconda\\envs\\pytorch-gpu\\lib\\site-packages\\pydmd\\dmdbase.py:351: UserWarning: Input data matrix X has condition number 99285493.12765828. Consider preprocessing data, passing in augmented data matrix, or regularization methods.\n",
      "  cond_number\n",
      "C:\\software\\anaconda\\envs\\pytorch-gpu\\lib\\site-packages\\pydmd\\dmdbase.py:351: UserWarning: Input data matrix X has condition number 99625887.01389799. Consider preprocessing data, passing in augmented data matrix, or regularization methods.\n",
      "  cond_number\n",
      "C:\\software\\anaconda\\envs\\pytorch-gpu\\lib\\site-packages\\pydmd\\dmdbase.py:351: UserWarning: Input data matrix X has condition number 100276063.98217744. Consider preprocessing data, passing in augmented data matrix, or regularization methods.\n",
      "  cond_number\n",
      "C:\\software\\anaconda\\envs\\pytorch-gpu\\lib\\site-packages\\pydmd\\dmdbase.py:351: UserWarning: Input data matrix X has condition number 100312765.51995039. Consider preprocessing data, passing in augmented data matrix, or regularization methods.\n",
      "  cond_number\n",
      "C:\\software\\anaconda\\envs\\pytorch-gpu\\lib\\site-packages\\pydmd\\dmdbase.py:351: UserWarning: Input data matrix X has condition number 100617271.18592206. Consider preprocessing data, passing in augmented data matrix, or regularization methods.\n",
      "  cond_number\n",
      "C:\\software\\anaconda\\envs\\pytorch-gpu\\lib\\site-packages\\pydmd\\dmdbase.py:351: UserWarning: Input data matrix X has condition number 100946080.99456699. Consider preprocessing data, passing in augmented data matrix, or regularization methods.\n",
      "  cond_number\n",
      "C:\\software\\anaconda\\envs\\pytorch-gpu\\lib\\site-packages\\pydmd\\dmdbase.py:351: UserWarning: Input data matrix X has condition number 101313003.6789557. Consider preprocessing data, passing in augmented data matrix, or regularization methods.\n",
      "  cond_number\n",
      "C:\\software\\anaconda\\envs\\pytorch-gpu\\lib\\site-packages\\pydmd\\dmdbase.py:351: UserWarning: Input data matrix X has condition number 105266655.21592289. Consider preprocessing data, passing in augmented data matrix, or regularization methods.\n",
      "  cond_number\n",
      "C:\\software\\anaconda\\envs\\pytorch-gpu\\lib\\site-packages\\pydmd\\dmdbase.py:351: UserWarning: Input data matrix X has condition number 112392914.54328851. Consider preprocessing data, passing in augmented data matrix, or regularization methods.\n",
      "  cond_number\n",
      "C:\\software\\anaconda\\envs\\pytorch-gpu\\lib\\site-packages\\pydmd\\dmdbase.py:351: UserWarning: Input data matrix X has condition number 120591034.2342996. Consider preprocessing data, passing in augmented data matrix, or regularization methods.\n",
      "  cond_number\n",
      "C:\\software\\anaconda\\envs\\pytorch-gpu\\lib\\site-packages\\pydmd\\dmdbase.py:351: UserWarning: Input data matrix X has condition number 128704611.12036091. Consider preprocessing data, passing in augmented data matrix, or regularization methods.\n",
      "  cond_number\n",
      "C:\\software\\anaconda\\envs\\pytorch-gpu\\lib\\site-packages\\pydmd\\dmdbase.py:351: UserWarning: Input data matrix X has condition number 137407372.64233917. Consider preprocessing data, passing in augmented data matrix, or regularization methods.\n",
      "  cond_number\n",
      "C:\\software\\anaconda\\envs\\pytorch-gpu\\lib\\site-packages\\pydmd\\dmdbase.py:351: UserWarning: Input data matrix X has condition number 145674143.28254625. Consider preprocessing data, passing in augmented data matrix, or regularization methods.\n",
      "  cond_number\n",
      "C:\\software\\anaconda\\envs\\pytorch-gpu\\lib\\site-packages\\pydmd\\dmdbase.py:351: UserWarning: Input data matrix X has condition number 153094508.47187445. Consider preprocessing data, passing in augmented data matrix, or regularization methods.\n",
      "  cond_number\n",
      "C:\\software\\anaconda\\envs\\pytorch-gpu\\lib\\site-packages\\pydmd\\dmdbase.py:351: UserWarning: Input data matrix X has condition number 160043853.00761473. Consider preprocessing data, passing in augmented data matrix, or regularization methods.\n",
      "  cond_number\n",
      "C:\\software\\anaconda\\envs\\pytorch-gpu\\lib\\site-packages\\pydmd\\dmdbase.py:351: UserWarning: Input data matrix X has condition number 166351891.81599453. Consider preprocessing data, passing in augmented data matrix, or regularization methods.\n",
      "  cond_number\n",
      "C:\\software\\anaconda\\envs\\pytorch-gpu\\lib\\site-packages\\pydmd\\dmdbase.py:351: UserWarning: Input data matrix X has condition number 171077190.49924803. Consider preprocessing data, passing in augmented data matrix, or regularization methods.\n",
      "  cond_number\n",
      "C:\\software\\anaconda\\envs\\pytorch-gpu\\lib\\site-packages\\pydmd\\dmdbase.py:351: UserWarning: Input data matrix X has condition number 175535650.9767043. Consider preprocessing data, passing in augmented data matrix, or regularization methods.\n",
      "  cond_number\n",
      "C:\\software\\anaconda\\envs\\pytorch-gpu\\lib\\site-packages\\pydmd\\dmdbase.py:351: UserWarning: Input data matrix X has condition number 179278051.2347367. Consider preprocessing data, passing in augmented data matrix, or regularization methods.\n",
      "  cond_number\n",
      "C:\\software\\anaconda\\envs\\pytorch-gpu\\lib\\site-packages\\pydmd\\dmdbase.py:351: UserWarning: Input data matrix X has condition number 182248437.8882383. Consider preprocessing data, passing in augmented data matrix, or regularization methods.\n",
      "  cond_number\n",
      "C:\\software\\anaconda\\envs\\pytorch-gpu\\lib\\site-packages\\pydmd\\dmdbase.py:351: UserWarning: Input data matrix X has condition number 184835633.85553017. Consider preprocessing data, passing in augmented data matrix, or regularization methods.\n",
      "  cond_number\n",
      "C:\\software\\anaconda\\envs\\pytorch-gpu\\lib\\site-packages\\pydmd\\dmdbase.py:351: UserWarning: Input data matrix X has condition number 186373634.81764948. Consider preprocessing data, passing in augmented data matrix, or regularization methods.\n",
      "  cond_number\n",
      "C:\\software\\anaconda\\envs\\pytorch-gpu\\lib\\site-packages\\pydmd\\dmdbase.py:351: UserWarning: Input data matrix X has condition number 187393952.94948518. Consider preprocessing data, passing in augmented data matrix, or regularization methods.\n",
      "  cond_number\n",
      "C:\\software\\anaconda\\envs\\pytorch-gpu\\lib\\site-packages\\pydmd\\dmdbase.py:351: UserWarning: Input data matrix X has condition number 188733868.22578418. Consider preprocessing data, passing in augmented data matrix, or regularization methods.\n",
      "  cond_number\n",
      "C:\\software\\anaconda\\envs\\pytorch-gpu\\lib\\site-packages\\pydmd\\dmdbase.py:351: UserWarning: Input data matrix X has condition number 185930516.26648512. Consider preprocessing data, passing in augmented data matrix, or regularization methods.\n",
      "  cond_number\n",
      "C:\\software\\anaconda\\envs\\pytorch-gpu\\lib\\site-packages\\pydmd\\dmdbase.py:351: UserWarning: Input data matrix X has condition number 183931647.54805797. Consider preprocessing data, passing in augmented data matrix, or regularization methods.\n",
      "  cond_number\n",
      "C:\\software\\anaconda\\envs\\pytorch-gpu\\lib\\site-packages\\pydmd\\dmdbase.py:351: UserWarning: Input data matrix X has condition number 183604782.51728132. Consider preprocessing data, passing in augmented data matrix, or regularization methods.\n",
      "  cond_number\n",
      "C:\\software\\anaconda\\envs\\pytorch-gpu\\lib\\site-packages\\pydmd\\dmdbase.py:351: UserWarning: Input data matrix X has condition number 185825746.336398. Consider preprocessing data, passing in augmented data matrix, or regularization methods.\n",
      "  cond_number\n",
      "C:\\software\\anaconda\\envs\\pytorch-gpu\\lib\\site-packages\\pydmd\\dmdbase.py:351: UserWarning: Input data matrix X has condition number 190162723.33510324. Consider preprocessing data, passing in augmented data matrix, or regularization methods.\n",
      "  cond_number\n",
      "C:\\software\\anaconda\\envs\\pytorch-gpu\\lib\\site-packages\\pydmd\\dmdbase.py:351: UserWarning: Input data matrix X has condition number 196182332.1377357. Consider preprocessing data, passing in augmented data matrix, or regularization methods.\n",
      "  cond_number\n",
      "C:\\software\\anaconda\\envs\\pytorch-gpu\\lib\\site-packages\\pydmd\\dmdbase.py:351: UserWarning: Input data matrix X has condition number 201206292.9545393. Consider preprocessing data, passing in augmented data matrix, or regularization methods.\n",
      "  cond_number\n",
      "C:\\software\\anaconda\\envs\\pytorch-gpu\\lib\\site-packages\\pydmd\\dmdbase.py:351: UserWarning: Input data matrix X has condition number 205383462.5667682. Consider preprocessing data, passing in augmented data matrix, or regularization methods.\n",
      "  cond_number\n",
      "C:\\software\\anaconda\\envs\\pytorch-gpu\\lib\\site-packages\\pydmd\\dmdbase.py:351: UserWarning: Input data matrix X has condition number 209491176.40642452. Consider preprocessing data, passing in augmented data matrix, or regularization methods.\n",
      "  cond_number\n",
      "C:\\software\\anaconda\\envs\\pytorch-gpu\\lib\\site-packages\\pydmd\\dmdbase.py:351: UserWarning: Input data matrix X has condition number 213648257.0363158. Consider preprocessing data, passing in augmented data matrix, or regularization methods.\n",
      "  cond_number\n",
      "C:\\software\\anaconda\\envs\\pytorch-gpu\\lib\\site-packages\\pydmd\\dmdbase.py:351: UserWarning: Input data matrix X has condition number 217119306.00650322. Consider preprocessing data, passing in augmented data matrix, or regularization methods.\n",
      "  cond_number\n",
      "C:\\software\\anaconda\\envs\\pytorch-gpu\\lib\\site-packages\\pydmd\\dmdbase.py:351: UserWarning: Input data matrix X has condition number 219371049.53087363. Consider preprocessing data, passing in augmented data matrix, or regularization methods.\n",
      "  cond_number\n",
      "C:\\software\\anaconda\\envs\\pytorch-gpu\\lib\\site-packages\\pydmd\\dmdbase.py:351: UserWarning: Input data matrix X has condition number 220748080.23727092. Consider preprocessing data, passing in augmented data matrix, or regularization methods.\n",
      "  cond_number\n",
      "C:\\software\\anaconda\\envs\\pytorch-gpu\\lib\\site-packages\\pydmd\\dmdbase.py:351: UserWarning: Input data matrix X has condition number 220990240.8352359. Consider preprocessing data, passing in augmented data matrix, or regularization methods.\n",
      "  cond_number\n",
      "C:\\software\\anaconda\\envs\\pytorch-gpu\\lib\\site-packages\\pydmd\\dmdbase.py:351: UserWarning: Input data matrix X has condition number 221364260.29147503. Consider preprocessing data, passing in augmented data matrix, or regularization methods.\n",
      "  cond_number\n",
      "C:\\software\\anaconda\\envs\\pytorch-gpu\\lib\\site-packages\\pydmd\\dmdbase.py:351: UserWarning: Input data matrix X has condition number 222231231.04999784. Consider preprocessing data, passing in augmented data matrix, or regularization methods.\n",
      "  cond_number\n",
      "C:\\software\\anaconda\\envs\\pytorch-gpu\\lib\\site-packages\\pydmd\\dmdbase.py:351: UserWarning: Input data matrix X has condition number 222480233.22755828. Consider preprocessing data, passing in augmented data matrix, or regularization methods.\n",
      "  cond_number\n",
      "C:\\software\\anaconda\\envs\\pytorch-gpu\\lib\\site-packages\\pydmd\\dmdbase.py:351: UserWarning: Input data matrix X has condition number 220645365.36129683. Consider preprocessing data, passing in augmented data matrix, or regularization methods.\n",
      "  cond_number\n"
     ]
    },
    {
     "name": "stderr",
     "output_type": "stream",
     "text": [
      "C:\\software\\anaconda\\envs\\pytorch-gpu\\lib\\site-packages\\pydmd\\dmdbase.py:351: UserWarning: Input data matrix X has condition number 217855520.23586378. Consider preprocessing data, passing in augmented data matrix, or regularization methods.\n",
      "  cond_number\n",
      "C:\\software\\anaconda\\envs\\pytorch-gpu\\lib\\site-packages\\pydmd\\dmdbase.py:351: UserWarning: Input data matrix X has condition number 214423234.45696673. Consider preprocessing data, passing in augmented data matrix, or regularization methods.\n",
      "  cond_number\n",
      "C:\\software\\anaconda\\envs\\pytorch-gpu\\lib\\site-packages\\pydmd\\dmdbase.py:351: UserWarning: Input data matrix X has condition number 211595619.11437562. Consider preprocessing data, passing in augmented data matrix, or regularization methods.\n",
      "  cond_number\n",
      "C:\\software\\anaconda\\envs\\pytorch-gpu\\lib\\site-packages\\pydmd\\dmdbase.py:351: UserWarning: Input data matrix X has condition number 208862883.2788599. Consider preprocessing data, passing in augmented data matrix, or regularization methods.\n",
      "  cond_number\n",
      "C:\\software\\anaconda\\envs\\pytorch-gpu\\lib\\site-packages\\pydmd\\dmdbase.py:351: UserWarning: Input data matrix X has condition number 205821214.72037932. Consider preprocessing data, passing in augmented data matrix, or regularization methods.\n",
      "  cond_number\n",
      "C:\\software\\anaconda\\envs\\pytorch-gpu\\lib\\site-packages\\pydmd\\dmdbase.py:351: UserWarning: Input data matrix X has condition number 199734823.5619204. Consider preprocessing data, passing in augmented data matrix, or regularization methods.\n",
      "  cond_number\n",
      "C:\\software\\anaconda\\envs\\pytorch-gpu\\lib\\site-packages\\pydmd\\dmdbase.py:351: UserWarning: Input data matrix X has condition number 198720492.6795044. Consider preprocessing data, passing in augmented data matrix, or regularization methods.\n",
      "  cond_number\n",
      "C:\\software\\anaconda\\envs\\pytorch-gpu\\lib\\site-packages\\pydmd\\dmdbase.py:351: UserWarning: Input data matrix X has condition number 200555935.94251895. Consider preprocessing data, passing in augmented data matrix, or regularization methods.\n",
      "  cond_number\n",
      "C:\\software\\anaconda\\envs\\pytorch-gpu\\lib\\site-packages\\pydmd\\dmdbase.py:351: UserWarning: Input data matrix X has condition number 205404825.74517176. Consider preprocessing data, passing in augmented data matrix, or regularization methods.\n",
      "  cond_number\n",
      "C:\\software\\anaconda\\envs\\pytorch-gpu\\lib\\site-packages\\pydmd\\dmdbase.py:351: UserWarning: Input data matrix X has condition number 212168510.79364872. Consider preprocessing data, passing in augmented data matrix, or regularization methods.\n",
      "  cond_number\n",
      "C:\\software\\anaconda\\envs\\pytorch-gpu\\lib\\site-packages\\pydmd\\dmdbase.py:351: UserWarning: Input data matrix X has condition number 216237548.7632755. Consider preprocessing data, passing in augmented data matrix, or regularization methods.\n",
      "  cond_number\n",
      "C:\\software\\anaconda\\envs\\pytorch-gpu\\lib\\site-packages\\pydmd\\dmdbase.py:351: UserWarning: Input data matrix X has condition number 219770562.1794938. Consider preprocessing data, passing in augmented data matrix, or regularization methods.\n",
      "  cond_number\n",
      "C:\\software\\anaconda\\envs\\pytorch-gpu\\lib\\site-packages\\pydmd\\dmdbase.py:351: UserWarning: Input data matrix X has condition number 225632506.95065933. Consider preprocessing data, passing in augmented data matrix, or regularization methods.\n",
      "  cond_number\n",
      "C:\\software\\anaconda\\envs\\pytorch-gpu\\lib\\site-packages\\pydmd\\dmdbase.py:351: UserWarning: Input data matrix X has condition number 234777898.1084264. Consider preprocessing data, passing in augmented data matrix, or regularization methods.\n",
      "  cond_number\n",
      "C:\\software\\anaconda\\envs\\pytorch-gpu\\lib\\site-packages\\pydmd\\dmdbase.py:351: UserWarning: Input data matrix X has condition number 246283271.1657691. Consider preprocessing data, passing in augmented data matrix, or regularization methods.\n",
      "  cond_number\n",
      "C:\\software\\anaconda\\envs\\pytorch-gpu\\lib\\site-packages\\pydmd\\dmdbase.py:351: UserWarning: Input data matrix X has condition number 253004401.10758263. Consider preprocessing data, passing in augmented data matrix, or regularization methods.\n",
      "  cond_number\n",
      "C:\\software\\anaconda\\envs\\pytorch-gpu\\lib\\site-packages\\pydmd\\dmdbase.py:351: UserWarning: Input data matrix X has condition number 258186172.7349413. Consider preprocessing data, passing in augmented data matrix, or regularization methods.\n",
      "  cond_number\n",
      "C:\\software\\anaconda\\envs\\pytorch-gpu\\lib\\site-packages\\pydmd\\dmdbase.py:351: UserWarning: Input data matrix X has condition number 263525894.57526502. Consider preprocessing data, passing in augmented data matrix, or regularization methods.\n",
      "  cond_number\n",
      "C:\\software\\anaconda\\envs\\pytorch-gpu\\lib\\site-packages\\pydmd\\dmdbase.py:351: UserWarning: Input data matrix X has condition number 269471053.9670332. Consider preprocessing data, passing in augmented data matrix, or regularization methods.\n",
      "  cond_number\n",
      "C:\\software\\anaconda\\envs\\pytorch-gpu\\lib\\site-packages\\pydmd\\dmdbase.py:351: UserWarning: Input data matrix X has condition number 272193421.71850955. Consider preprocessing data, passing in augmented data matrix, or regularization methods.\n",
      "  cond_number\n",
      "C:\\software\\anaconda\\envs\\pytorch-gpu\\lib\\site-packages\\pydmd\\dmdbase.py:351: UserWarning: Input data matrix X has condition number 274738409.52514803. Consider preprocessing data, passing in augmented data matrix, or regularization methods.\n",
      "  cond_number\n",
      "C:\\software\\anaconda\\envs\\pytorch-gpu\\lib\\site-packages\\pydmd\\dmdbase.py:351: UserWarning: Input data matrix X has condition number 276075049.7988545. Consider preprocessing data, passing in augmented data matrix, or regularization methods.\n",
      "  cond_number\n",
      "C:\\software\\anaconda\\envs\\pytorch-gpu\\lib\\site-packages\\pydmd\\dmdbase.py:351: UserWarning: Input data matrix X has condition number 271218885.3908594. Consider preprocessing data, passing in augmented data matrix, or regularization methods.\n",
      "  cond_number\n",
      "C:\\software\\anaconda\\envs\\pytorch-gpu\\lib\\site-packages\\pydmd\\dmdbase.py:351: UserWarning: Input data matrix X has condition number 266862651.08539537. Consider preprocessing data, passing in augmented data matrix, or regularization methods.\n",
      "  cond_number\n",
      "C:\\software\\anaconda\\envs\\pytorch-gpu\\lib\\site-packages\\pydmd\\dmdbase.py:351: UserWarning: Input data matrix X has condition number 264694182.73270506. Consider preprocessing data, passing in augmented data matrix, or regularization methods.\n",
      "  cond_number\n",
      "C:\\software\\anaconda\\envs\\pytorch-gpu\\lib\\site-packages\\pydmd\\dmdbase.py:351: UserWarning: Input data matrix X has condition number 262106049.60806766. Consider preprocessing data, passing in augmented data matrix, or regularization methods.\n",
      "  cond_number\n",
      "C:\\software\\anaconda\\envs\\pytorch-gpu\\lib\\site-packages\\pydmd\\dmdbase.py:351: UserWarning: Input data matrix X has condition number 260849262.3268899. Consider preprocessing data, passing in augmented data matrix, or regularization methods.\n",
      "  cond_number\n",
      "C:\\software\\anaconda\\envs\\pytorch-gpu\\lib\\site-packages\\pydmd\\dmdbase.py:351: UserWarning: Input data matrix X has condition number 258065012.23533162. Consider preprocessing data, passing in augmented data matrix, or regularization methods.\n",
      "  cond_number\n",
      "C:\\software\\anaconda\\envs\\pytorch-gpu\\lib\\site-packages\\pydmd\\dmdbase.py:351: UserWarning: Input data matrix X has condition number 251391443.8046686. Consider preprocessing data, passing in augmented data matrix, or regularization methods.\n",
      "  cond_number\n",
      "C:\\software\\anaconda\\envs\\pytorch-gpu\\lib\\site-packages\\pydmd\\dmdbase.py:351: UserWarning: Input data matrix X has condition number 247104351.7579631. Consider preprocessing data, passing in augmented data matrix, or regularization methods.\n",
      "  cond_number\n",
      "C:\\software\\anaconda\\envs\\pytorch-gpu\\lib\\site-packages\\pydmd\\dmdbase.py:351: UserWarning: Input data matrix X has condition number 247483927.84024313. Consider preprocessing data, passing in augmented data matrix, or regularization methods.\n",
      "  cond_number\n",
      "C:\\software\\anaconda\\envs\\pytorch-gpu\\lib\\site-packages\\pydmd\\dmdbase.py:351: UserWarning: Input data matrix X has condition number 248786119.644391. Consider preprocessing data, passing in augmented data matrix, or regularization methods.\n",
      "  cond_number\n",
      "C:\\software\\anaconda\\envs\\pytorch-gpu\\lib\\site-packages\\pydmd\\dmdbase.py:351: UserWarning: Input data matrix X has condition number 249921058.17929035. Consider preprocessing data, passing in augmented data matrix, or regularization methods.\n",
      "  cond_number\n"
     ]
    },
    {
     "name": "stderr",
     "output_type": "stream",
     "text": [
      "C:\\software\\anaconda\\envs\\pytorch-gpu\\lib\\site-packages\\pydmd\\dmdbase.py:351: UserWarning: Input data matrix X has condition number 250610417.15209854. Consider preprocessing data, passing in augmented data matrix, or regularization methods.\n",
      "  cond_number\n",
      "C:\\software\\anaconda\\envs\\pytorch-gpu\\lib\\site-packages\\pydmd\\dmdbase.py:351: UserWarning: Input data matrix X has condition number 251385821.4578522. Consider preprocessing data, passing in augmented data matrix, or regularization methods.\n",
      "  cond_number\n",
      "C:\\software\\anaconda\\envs\\pytorch-gpu\\lib\\site-packages\\pydmd\\dmdbase.py:351: UserWarning: Input data matrix X has condition number 253346433.40694812. Consider preprocessing data, passing in augmented data matrix, or regularization methods.\n",
      "  cond_number\n",
      "C:\\software\\anaconda\\envs\\pytorch-gpu\\lib\\site-packages\\pydmd\\dmdbase.py:351: UserWarning: Input data matrix X has condition number 255456215.45196098. Consider preprocessing data, passing in augmented data matrix, or regularization methods.\n",
      "  cond_number\n",
      "C:\\software\\anaconda\\envs\\pytorch-gpu\\lib\\site-packages\\pydmd\\dmdbase.py:351: UserWarning: Input data matrix X has condition number 256283996.19627455. Consider preprocessing data, passing in augmented data matrix, or regularization methods.\n",
      "  cond_number\n",
      "C:\\software\\anaconda\\envs\\pytorch-gpu\\lib\\site-packages\\pydmd\\dmdbase.py:351: UserWarning: Input data matrix X has condition number 256646940.0774219. Consider preprocessing data, passing in augmented data matrix, or regularization methods.\n",
      "  cond_number\n",
      "C:\\software\\anaconda\\envs\\pytorch-gpu\\lib\\site-packages\\pydmd\\dmdbase.py:351: UserWarning: Input data matrix X has condition number 256954657.08432788. Consider preprocessing data, passing in augmented data matrix, or regularization methods.\n",
      "  cond_number\n",
      "C:\\software\\anaconda\\envs\\pytorch-gpu\\lib\\site-packages\\pydmd\\dmdbase.py:351: UserWarning: Input data matrix X has condition number 256330296.30929536. Consider preprocessing data, passing in augmented data matrix, or regularization methods.\n",
      "  cond_number\n",
      "C:\\software\\anaconda\\envs\\pytorch-gpu\\lib\\site-packages\\pydmd\\dmdbase.py:351: UserWarning: Input data matrix X has condition number 254730729.37587115. Consider preprocessing data, passing in augmented data matrix, or regularization methods.\n",
      "  cond_number\n",
      "C:\\software\\anaconda\\envs\\pytorch-gpu\\lib\\site-packages\\pydmd\\dmdbase.py:351: UserWarning: Input data matrix X has condition number 251228885.06139547. Consider preprocessing data, passing in augmented data matrix, or regularization methods.\n",
      "  cond_number\n",
      "C:\\software\\anaconda\\envs\\pytorch-gpu\\lib\\site-packages\\pydmd\\dmdbase.py:351: UserWarning: Input data matrix X has condition number 247959286.78250217. Consider preprocessing data, passing in augmented data matrix, or regularization methods.\n",
      "  cond_number\n",
      "C:\\software\\anaconda\\envs\\pytorch-gpu\\lib\\site-packages\\pydmd\\dmdbase.py:351: UserWarning: Input data matrix X has condition number 247304047.66726777. Consider preprocessing data, passing in augmented data matrix, or regularization methods.\n",
      "  cond_number\n",
      "C:\\software\\anaconda\\envs\\pytorch-gpu\\lib\\site-packages\\pydmd\\dmdbase.py:351: UserWarning: Input data matrix X has condition number 246562989.82833597. Consider preprocessing data, passing in augmented data matrix, or regularization methods.\n",
      "  cond_number\n",
      "C:\\software\\anaconda\\envs\\pytorch-gpu\\lib\\site-packages\\pydmd\\dmdbase.py:351: UserWarning: Input data matrix X has condition number 244432921.42374086. Consider preprocessing data, passing in augmented data matrix, or regularization methods.\n",
      "  cond_number\n",
      "C:\\software\\anaconda\\envs\\pytorch-gpu\\lib\\site-packages\\pydmd\\dmdbase.py:351: UserWarning: Input data matrix X has condition number 242981593.52315316. Consider preprocessing data, passing in augmented data matrix, or regularization methods.\n",
      "  cond_number\n",
      "C:\\software\\anaconda\\envs\\pytorch-gpu\\lib\\site-packages\\pydmd\\dmdbase.py:351: UserWarning: Input data matrix X has condition number 241147624.10593915. Consider preprocessing data, passing in augmented data matrix, or regularization methods.\n",
      "  cond_number\n",
      "C:\\software\\anaconda\\envs\\pytorch-gpu\\lib\\site-packages\\pydmd\\dmdbase.py:351: UserWarning: Input data matrix X has condition number 238664216.67628798. Consider preprocessing data, passing in augmented data matrix, or regularization methods.\n",
      "  cond_number\n",
      "C:\\software\\anaconda\\envs\\pytorch-gpu\\lib\\site-packages\\pydmd\\dmdbase.py:351: UserWarning: Input data matrix X has condition number 235707904.08233315. Consider preprocessing data, passing in augmented data matrix, or regularization methods.\n",
      "  cond_number\n",
      "C:\\software\\anaconda\\envs\\pytorch-gpu\\lib\\site-packages\\pydmd\\dmdbase.py:351: UserWarning: Input data matrix X has condition number 232852219.49740842. Consider preprocessing data, passing in augmented data matrix, or regularization methods.\n",
      "  cond_number\n",
      "C:\\software\\anaconda\\envs\\pytorch-gpu\\lib\\site-packages\\pydmd\\dmdbase.py:351: UserWarning: Input data matrix X has condition number 230390291.0223375. Consider preprocessing data, passing in augmented data matrix, or regularization methods.\n",
      "  cond_number\n",
      "C:\\software\\anaconda\\envs\\pytorch-gpu\\lib\\site-packages\\pydmd\\dmdbase.py:351: UserWarning: Input data matrix X has condition number 227039974.82423052. Consider preprocessing data, passing in augmented data matrix, or regularization methods.\n",
      "  cond_number\n",
      "C:\\software\\anaconda\\envs\\pytorch-gpu\\lib\\site-packages\\pydmd\\dmdbase.py:351: UserWarning: Input data matrix X has condition number 223534680.16451046. Consider preprocessing data, passing in augmented data matrix, or regularization methods.\n",
      "  cond_number\n",
      "C:\\software\\anaconda\\envs\\pytorch-gpu\\lib\\site-packages\\pydmd\\dmdbase.py:351: UserWarning: Input data matrix X has condition number 218209606.38345948. Consider preprocessing data, passing in augmented data matrix, or regularization methods.\n",
      "  cond_number\n",
      "C:\\software\\anaconda\\envs\\pytorch-gpu\\lib\\site-packages\\pydmd\\dmdbase.py:351: UserWarning: Input data matrix X has condition number 214016783.52079237. Consider preprocessing data, passing in augmented data matrix, or regularization methods.\n",
      "  cond_number\n",
      "C:\\software\\anaconda\\envs\\pytorch-gpu\\lib\\site-packages\\pydmd\\dmdbase.py:351: UserWarning: Input data matrix X has condition number 207305230.22138664. Consider preprocessing data, passing in augmented data matrix, or regularization methods.\n",
      "  cond_number\n",
      "C:\\software\\anaconda\\envs\\pytorch-gpu\\lib\\site-packages\\pydmd\\dmdbase.py:351: UserWarning: Input data matrix X has condition number 202196079.73820323. Consider preprocessing data, passing in augmented data matrix, or regularization methods.\n",
      "  cond_number\n",
      "C:\\software\\anaconda\\envs\\pytorch-gpu\\lib\\site-packages\\pydmd\\dmdbase.py:351: UserWarning: Input data matrix X has condition number 201479024.72223055. Consider preprocessing data, passing in augmented data matrix, or regularization methods.\n",
      "  cond_number\n",
      "C:\\software\\anaconda\\envs\\pytorch-gpu\\lib\\site-packages\\pydmd\\dmdbase.py:351: UserWarning: Input data matrix X has condition number 207764743.98772523. Consider preprocessing data, passing in augmented data matrix, or regularization methods.\n",
      "  cond_number\n",
      "C:\\software\\anaconda\\envs\\pytorch-gpu\\lib\\site-packages\\pydmd\\dmdbase.py:351: UserWarning: Input data matrix X has condition number 218682726.18637443. Consider preprocessing data, passing in augmented data matrix, or regularization methods.\n",
      "  cond_number\n",
      "C:\\software\\anaconda\\envs\\pytorch-gpu\\lib\\site-packages\\pydmd\\dmdbase.py:351: UserWarning: Input data matrix X has condition number 235369998.4796438. Consider preprocessing data, passing in augmented data matrix, or regularization methods.\n",
      "  cond_number\n",
      "C:\\software\\anaconda\\envs\\pytorch-gpu\\lib\\site-packages\\pydmd\\dmdbase.py:351: UserWarning: Input data matrix X has condition number 241696015.84515047. Consider preprocessing data, passing in augmented data matrix, or regularization methods.\n",
      "  cond_number\n",
      "C:\\software\\anaconda\\envs\\pytorch-gpu\\lib\\site-packages\\pydmd\\dmdbase.py:351: UserWarning: Input data matrix X has condition number 246986743.10286662. Consider preprocessing data, passing in augmented data matrix, or regularization methods.\n",
      "  cond_number\n",
      "C:\\software\\anaconda\\envs\\pytorch-gpu\\lib\\site-packages\\pydmd\\dmdbase.py:351: UserWarning: Input data matrix X has condition number 253827712.20402643. Consider preprocessing data, passing in augmented data matrix, or regularization methods.\n",
      "  cond_number\n",
      "C:\\software\\anaconda\\envs\\pytorch-gpu\\lib\\site-packages\\pydmd\\dmdbase.py:351: UserWarning: Input data matrix X has condition number 259240412.98390588. Consider preprocessing data, passing in augmented data matrix, or regularization methods.\n",
      "  cond_number\n",
      "C:\\software\\anaconda\\envs\\pytorch-gpu\\lib\\site-packages\\pydmd\\dmdbase.py:351: UserWarning: Input data matrix X has condition number 266332000.31737003. Consider preprocessing data, passing in augmented data matrix, or regularization methods.\n",
      "  cond_number\n",
      "C:\\software\\anaconda\\envs\\pytorch-gpu\\lib\\site-packages\\pydmd\\dmdbase.py:351: UserWarning: Input data matrix X has condition number 273798299.83049875. Consider preprocessing data, passing in augmented data matrix, or regularization methods.\n",
      "  cond_number\n",
      "C:\\software\\anaconda\\envs\\pytorch-gpu\\lib\\site-packages\\pydmd\\dmdbase.py:351: UserWarning: Input data matrix X has condition number 278392208.92055905. Consider preprocessing data, passing in augmented data matrix, or regularization methods.\n",
      "  cond_number\n",
      "C:\\software\\anaconda\\envs\\pytorch-gpu\\lib\\site-packages\\pydmd\\dmdbase.py:351: UserWarning: Input data matrix X has condition number 279340402.85684943. Consider preprocessing data, passing in augmented data matrix, or regularization methods.\n",
      "  cond_number\n",
      "C:\\software\\anaconda\\envs\\pytorch-gpu\\lib\\site-packages\\pydmd\\dmdbase.py:351: UserWarning: Input data matrix X has condition number 278967038.1844102. Consider preprocessing data, passing in augmented data matrix, or regularization methods.\n",
      "  cond_number\n",
      "C:\\software\\anaconda\\envs\\pytorch-gpu\\lib\\site-packages\\pydmd\\dmdbase.py:351: UserWarning: Input data matrix X has condition number 276912123.59785074. Consider preprocessing data, passing in augmented data matrix, or regularization methods.\n",
      "  cond_number\n",
      "C:\\software\\anaconda\\envs\\pytorch-gpu\\lib\\site-packages\\pydmd\\dmdbase.py:351: UserWarning: Input data matrix X has condition number 277763960.2036692. Consider preprocessing data, passing in augmented data matrix, or regularization methods.\n",
      "  cond_number\n",
      "C:\\software\\anaconda\\envs\\pytorch-gpu\\lib\\site-packages\\pydmd\\dmdbase.py:351: UserWarning: Input data matrix X has condition number 279056594.8618199. Consider preprocessing data, passing in augmented data matrix, or regularization methods.\n",
      "  cond_number\n",
      "C:\\software\\anaconda\\envs\\pytorch-gpu\\lib\\site-packages\\pydmd\\dmdbase.py:351: UserWarning: Input data matrix X has condition number 277267617.52339715. Consider preprocessing data, passing in augmented data matrix, or regularization methods.\n",
      "  cond_number\n"
     ]
    },
    {
     "name": "stderr",
     "output_type": "stream",
     "text": [
      "C:\\software\\anaconda\\envs\\pytorch-gpu\\lib\\site-packages\\pydmd\\dmdbase.py:351: UserWarning: Input data matrix X has condition number 275164337.11329716. Consider preprocessing data, passing in augmented data matrix, or regularization methods.\n",
      "  cond_number\n",
      "C:\\software\\anaconda\\envs\\pytorch-gpu\\lib\\site-packages\\pydmd\\dmdbase.py:351: UserWarning: Input data matrix X has condition number 273572699.86912334. Consider preprocessing data, passing in augmented data matrix, or regularization methods.\n",
      "  cond_number\n",
      "C:\\software\\anaconda\\envs\\pytorch-gpu\\lib\\site-packages\\pydmd\\dmdbase.py:351: UserWarning: Input data matrix X has condition number 271428162.8796577. Consider preprocessing data, passing in augmented data matrix, or regularization methods.\n",
      "  cond_number\n",
      "C:\\software\\anaconda\\envs\\pytorch-gpu\\lib\\site-packages\\pydmd\\dmdbase.py:351: UserWarning: Input data matrix X has condition number 270198088.65357965. Consider preprocessing data, passing in augmented data matrix, or regularization methods.\n",
      "  cond_number\n",
      "C:\\software\\anaconda\\envs\\pytorch-gpu\\lib\\site-packages\\pydmd\\dmdbase.py:351: UserWarning: Input data matrix X has condition number 269048898.2975119. Consider preprocessing data, passing in augmented data matrix, or regularization methods.\n",
      "  cond_number\n",
      "C:\\software\\anaconda\\envs\\pytorch-gpu\\lib\\site-packages\\pydmd\\dmdbase.py:351: UserWarning: Input data matrix X has condition number 265920485.27375174. Consider preprocessing data, passing in augmented data matrix, or regularization methods.\n",
      "  cond_number\n",
      "C:\\software\\anaconda\\envs\\pytorch-gpu\\lib\\site-packages\\pydmd\\dmdbase.py:351: UserWarning: Input data matrix X has condition number 263567433.15095446. Consider preprocessing data, passing in augmented data matrix, or regularization methods.\n",
      "  cond_number\n",
      "C:\\software\\anaconda\\envs\\pytorch-gpu\\lib\\site-packages\\pydmd\\dmdbase.py:351: UserWarning: Input data matrix X has condition number 260728255.41501823. Consider preprocessing data, passing in augmented data matrix, or regularization methods.\n",
      "  cond_number\n",
      "C:\\software\\anaconda\\envs\\pytorch-gpu\\lib\\site-packages\\pydmd\\dmdbase.py:351: UserWarning: Input data matrix X has condition number 258293069.18727356. Consider preprocessing data, passing in augmented data matrix, or regularization methods.\n",
      "  cond_number\n",
      "C:\\software\\anaconda\\envs\\pytorch-gpu\\lib\\site-packages\\pydmd\\dmdbase.py:351: UserWarning: Input data matrix X has condition number 255244793.50985956. Consider preprocessing data, passing in augmented data matrix, or regularization methods.\n",
      "  cond_number\n",
      "C:\\software\\anaconda\\envs\\pytorch-gpu\\lib\\site-packages\\pydmd\\dmdbase.py:351: UserWarning: Input data matrix X has condition number 252062677.17708492. Consider preprocessing data, passing in augmented data matrix, or regularization methods.\n",
      "  cond_number\n",
      "C:\\software\\anaconda\\envs\\pytorch-gpu\\lib\\site-packages\\pydmd\\dmdbase.py:351: UserWarning: Input data matrix X has condition number 245797445.19779897. Consider preprocessing data, passing in augmented data matrix, or regularization methods.\n",
      "  cond_number\n",
      "C:\\software\\anaconda\\envs\\pytorch-gpu\\lib\\site-packages\\pydmd\\dmdbase.py:351: UserWarning: Input data matrix X has condition number 238458738.24506402. Consider preprocessing data, passing in augmented data matrix, or regularization methods.\n",
      "  cond_number\n",
      "C:\\software\\anaconda\\envs\\pytorch-gpu\\lib\\site-packages\\pydmd\\dmdbase.py:351: UserWarning: Input data matrix X has condition number 233158027.7412964. Consider preprocessing data, passing in augmented data matrix, or regularization methods.\n",
      "  cond_number\n",
      "C:\\software\\anaconda\\envs\\pytorch-gpu\\lib\\site-packages\\pydmd\\dmdbase.py:351: UserWarning: Input data matrix X has condition number 230176982.90152577. Consider preprocessing data, passing in augmented data matrix, or regularization methods.\n",
      "  cond_number\n",
      "C:\\software\\anaconda\\envs\\pytorch-gpu\\lib\\site-packages\\pydmd\\dmdbase.py:351: UserWarning: Input data matrix X has condition number 229000851.4312627. Consider preprocessing data, passing in augmented data matrix, or regularization methods.\n",
      "  cond_number\n",
      "C:\\software\\anaconda\\envs\\pytorch-gpu\\lib\\site-packages\\pydmd\\dmdbase.py:351: UserWarning: Input data matrix X has condition number 222665310.79211175. Consider preprocessing data, passing in augmented data matrix, or regularization methods.\n",
      "  cond_number\n",
      "C:\\software\\anaconda\\envs\\pytorch-gpu\\lib\\site-packages\\pydmd\\dmdbase.py:351: UserWarning: Input data matrix X has condition number 226204658.5687552. Consider preprocessing data, passing in augmented data matrix, or regularization methods.\n",
      "  cond_number\n",
      "C:\\software\\anaconda\\envs\\pytorch-gpu\\lib\\site-packages\\pydmd\\dmdbase.py:351: UserWarning: Input data matrix X has condition number 232030629.8555884. Consider preprocessing data, passing in augmented data matrix, or regularization methods.\n",
      "  cond_number\n",
      "C:\\software\\anaconda\\envs\\pytorch-gpu\\lib\\site-packages\\pydmd\\dmdbase.py:351: UserWarning: Input data matrix X has condition number 237240105.97165778. Consider preprocessing data, passing in augmented data matrix, or regularization methods.\n",
      "  cond_number\n",
      "C:\\software\\anaconda\\envs\\pytorch-gpu\\lib\\site-packages\\pydmd\\dmdbase.py:351: UserWarning: Input data matrix X has condition number 238204260.6483167. Consider preprocessing data, passing in augmented data matrix, or regularization methods.\n",
      "  cond_number\n",
      "C:\\software\\anaconda\\envs\\pytorch-gpu\\lib\\site-packages\\pydmd\\dmdbase.py:351: UserWarning: Input data matrix X has condition number 229260614.09798807. Consider preprocessing data, passing in augmented data matrix, or regularization methods.\n",
      "  cond_number\n",
      "C:\\software\\anaconda\\envs\\pytorch-gpu\\lib\\site-packages\\pydmd\\dmdbase.py:351: UserWarning: Input data matrix X has condition number 234298038.74217495. Consider preprocessing data, passing in augmented data matrix, or regularization methods.\n",
      "  cond_number\n",
      "C:\\software\\anaconda\\envs\\pytorch-gpu\\lib\\site-packages\\pydmd\\dmdbase.py:351: UserWarning: Input data matrix X has condition number 242577740.07004237. Consider preprocessing data, passing in augmented data matrix, or regularization methods.\n",
      "  cond_number\n",
      "C:\\software\\anaconda\\envs\\pytorch-gpu\\lib\\site-packages\\pydmd\\dmdbase.py:351: UserWarning: Input data matrix X has condition number 247168451.5617843. Consider preprocessing data, passing in augmented data matrix, or regularization methods.\n",
      "  cond_number\n",
      "C:\\software\\anaconda\\envs\\pytorch-gpu\\lib\\site-packages\\pydmd\\dmdbase.py:351: UserWarning: Input data matrix X has condition number 250231099.9782962. Consider preprocessing data, passing in augmented data matrix, or regularization methods.\n",
      "  cond_number\n",
      "C:\\software\\anaconda\\envs\\pytorch-gpu\\lib\\site-packages\\pydmd\\dmdbase.py:351: UserWarning: Input data matrix X has condition number 253821374.6947683. Consider preprocessing data, passing in augmented data matrix, or regularization methods.\n",
      "  cond_number\n",
      "C:\\software\\anaconda\\envs\\pytorch-gpu\\lib\\site-packages\\pydmd\\dmdbase.py:351: UserWarning: Input data matrix X has condition number 253230355.2081583. Consider preprocessing data, passing in augmented data matrix, or regularization methods.\n",
      "  cond_number\n",
      "C:\\software\\anaconda\\envs\\pytorch-gpu\\lib\\site-packages\\pydmd\\dmdbase.py:351: UserWarning: Input data matrix X has condition number 252228773.4621234. Consider preprocessing data, passing in augmented data matrix, or regularization methods.\n",
      "  cond_number\n",
      "C:\\software\\anaconda\\envs\\pytorch-gpu\\lib\\site-packages\\pydmd\\dmdbase.py:351: UserWarning: Input data matrix X has condition number 251915458.34976065. Consider preprocessing data, passing in augmented data matrix, or regularization methods.\n",
      "  cond_number\n",
      "C:\\software\\anaconda\\envs\\pytorch-gpu\\lib\\site-packages\\pydmd\\dmdbase.py:351: UserWarning: Input data matrix X has condition number 254570562.75022313. Consider preprocessing data, passing in augmented data matrix, or regularization methods.\n",
      "  cond_number\n",
      "C:\\software\\anaconda\\envs\\pytorch-gpu\\lib\\site-packages\\pydmd\\dmdbase.py:351: UserWarning: Input data matrix X has condition number 256226375.79798424. Consider preprocessing data, passing in augmented data matrix, or regularization methods.\n",
      "  cond_number\n",
      "C:\\software\\anaconda\\envs\\pytorch-gpu\\lib\\site-packages\\pydmd\\dmdbase.py:351: UserWarning: Input data matrix X has condition number 257811007.71779844. Consider preprocessing data, passing in augmented data matrix, or regularization methods.\n",
      "  cond_number\n"
     ]
    },
    {
     "name": "stderr",
     "output_type": "stream",
     "text": [
      "C:\\software\\anaconda\\envs\\pytorch-gpu\\lib\\site-packages\\pydmd\\dmdbase.py:351: UserWarning: Input data matrix X has condition number 260326454.28804198. Consider preprocessing data, passing in augmented data matrix, or regularization methods.\n",
      "  cond_number\n",
      "C:\\software\\anaconda\\envs\\pytorch-gpu\\lib\\site-packages\\pydmd\\dmdbase.py:351: UserWarning: Input data matrix X has condition number 261210482.10173455. Consider preprocessing data, passing in augmented data matrix, or regularization methods.\n",
      "  cond_number\n",
      "C:\\software\\anaconda\\envs\\pytorch-gpu\\lib\\site-packages\\pydmd\\dmdbase.py:351: UserWarning: Input data matrix X has condition number 261486004.65621167. Consider preprocessing data, passing in augmented data matrix, or regularization methods.\n",
      "  cond_number\n",
      "C:\\software\\anaconda\\envs\\pytorch-gpu\\lib\\site-packages\\pydmd\\dmdbase.py:351: UserWarning: Input data matrix X has condition number 261214979.2202696. Consider preprocessing data, passing in augmented data matrix, or regularization methods.\n",
      "  cond_number\n",
      "C:\\software\\anaconda\\envs\\pytorch-gpu\\lib\\site-packages\\pydmd\\dmdbase.py:351: UserWarning: Input data matrix X has condition number 263234584.95703137. Consider preprocessing data, passing in augmented data matrix, or regularization methods.\n",
      "  cond_number\n",
      "C:\\software\\anaconda\\envs\\pytorch-gpu\\lib\\site-packages\\pydmd\\dmdbase.py:351: UserWarning: Input data matrix X has condition number 263878067.68798658. Consider preprocessing data, passing in augmented data matrix, or regularization methods.\n",
      "  cond_number\n"
     ]
    }
   ],
   "source": [
    "# 动态更新数据矩阵以及DMD算子\n",
    "for i in range(0, len(aug_trial[0])-bidx+1): \n",
    "    seg_trial = aug_trial[:, i:bidx+i]\n",
    "    \n",
    "    dmd = DMD(svd_rank=0, tlsq_rank=100, exact=True, opt=True)\n",
    "    dmd.fit(seg_trial)\n",
    "    dmd_f = dmd.frequency / dt\n",
    "    dmd_b = dmd.amplitudes\n",
    "    \n",
    "    idx = [i for i in range(len(dmd_f)) if dmd_f[i]>= 1 and dmd_f[i]<25]\n",
    "    b = dmd_b[idx]\n",
    "    f = dmd_f[idx]   # 只包含正频率点\n",
    "    fb = list(zip(f[:7], b[:7]))\n",
    "    fb.sort(key=lambda x:x[0])\n",
    "    fbpack.append(fb)\n",
    "  "
   ]
  },
  {
   "cell_type": "code",
   "execution_count": 6,
   "id": "d7a4d86e",
   "metadata": {},
   "outputs": [
    {
     "name": "stdout",
     "output_type": "stream",
     "text": [
      "(232, 7) (232, 7)\n"
     ]
    }
   ],
   "source": [
    "fbpack = np.array(fbpack)\n",
    "ft, bt = [], []\n",
    "for i in range(len(fbpack)):\n",
    "    ft.append((fbpack[i][:,0].real))\n",
    "    bt.append((fbpack[i][:,1]))\n",
    "ft = np.array(ft)\n",
    "bt = np.array(bt)\n",
    "print(ft.shape, bt.shape)"
   ]
  },
  {
   "cell_type": "code",
   "execution_count": 56,
   "id": "0411ab38",
   "metadata": {},
   "outputs": [
    {
     "name": "stderr",
     "output_type": "stream",
     "text": [
      "C:\\software\\anaconda\\envs\\pytorch-gpu\\lib\\site-packages\\ipykernel_launcher.py:13: UserWarning: FixedFormatter should only be used together with FixedLocator\n",
      "  del sys.path[0]\n"
     ]
    },
    {
     "data": {
      "image/png": "[encoded data removed]",
      "text/plain": [
       "<Figure size 432x288 with 2 Axes>"
      ]
     },
     "metadata": {
      "needs_background": "light"
     },
     "output_type": "display_data"
    }
   ],
   "source": [
    "from mne.baseline import rescale\n",
    "\n",
    "bt = np.absolute(bt)\n",
    "times  = np.arange(0, bt.shape[0]) * dt\n",
    "freqs = np.arange(0,bt.shape[1])\n",
    "\n",
    "fig, ax = plt.subplots()\n",
    "x, y = centers_to_edges(times * 1000, freqs)\n",
    "mesh = ax.pcolormesh(x, y, bt.T, cmap='RdBu_r')\n",
    "ax.set_title('Time-Magnitude of b')\n",
    "ax.set(ylim=freqs[[0, -1]], xlabel='Time (ms)',\n",
    "       yticklabels=list(map(str,np.round(np.mean(ft,axis=0),2))),\n",
    "      ylabel='Frequency (Hz)')\n",
    "fig.colorbar(mesh)\n",
    "plt.tight_layout()\n",
    "\n",
    "plt.show()"
   ]
  },
  {
   "cell_type": "code",
   "execution_count": 7,
   "id": "61a5566a",
   "metadata": {},
   "outputs": [
    {
     "data": {
      "text/plain": [
       "<AxesSubplot:>"
      ]
     },
     "execution_count": 7,
     "metadata": {},
     "output_type": "execute_result"
    },
    {
     "data": {
      "image/png": "[encoded data removed]",
      "text/plain": [
       "<Figure size 432x288 with 2 Axes>"
      ]
     },
     "metadata": {
      "needs_background": "light"
     },
     "output_type": "display_data"
    }
   ],
   "source": [
    "import seaborn as sns\n",
    "\n",
    "# xticklabels=['-0.2-0','0-0.2','0.2-0.4','0.4-0.6','0.6-0.8']\n",
    "bt = np.absolute(bt)\n",
    "\n",
    "sns.heatmap(data=bt.T,\n",
    "            yticklabels=list(map(str,np.round(np.mean(ft,axis=0),2))))\n",
    "# xticklabels=list(map(str,np.round(np.arange(0,233,9)*dt,1)))"
   ]
  },
  {
   "cell_type": "code",
   "execution_count": 59,
   "id": "b3384948",
   "metadata": {
    "scrolled": false
   },
   "outputs": [],
   "source": [
    "ffbpack = []\n",
    "\n",
    "for i in range(0, len(aug_trial[0])-bidx+1): \n",
    "    seg_trial = aug_trial[:, i:bidx+i]\n",
    "    \n",
    "    dmd = DMD(svd_rank=0, tlsq_rank=100, exact=True, opt=True)\n",
    "    dmd.fit(seg_trial)\n",
    "    dmd_f = dmd.frequency / dt\n",
    "    dmd_b = dmd.amplitudes\n",
    "    \n",
    "    idx = [i for i in range(len(dmd_f)) if dmd_f[i]> 0]\n",
    "    b = dmd_b[idx]\n",
    "    f = dmd_f[idx]   # 只包含正频率点\n",
    "    ffb = list(zip(f[:11], b[:11]))\n",
    "    ffb.sort(key=lambda x:x[0])\n",
    "    ffbpack.append(ffb) "
   ]
  },
  {
   "cell_type": "code",
   "execution_count": 60,
   "id": "8a39026b",
   "metadata": {},
   "outputs": [
    {
     "name": "stdout",
     "output_type": "stream",
     "text": [
      "(232, 11) (232, 11)\n"
     ]
    }
   ],
   "source": [
    "ffbpack = np.array(ffbpack)\n",
    "fft, fbt = [], []\n",
    "for i in range(len(ffbpack)):\n",
    "    fft.append((ffbpack[i][:,0].real))\n",
    "    fbt.append((ffbpack[i][:,1]))\n",
    "fft = np.array(fft)\n",
    "fbt = np.array(fbt)\n",
    "print(fft.shape, fbt.shape)"
   ]
  },
  {
   "cell_type": "code",
   "execution_count": 62,
   "id": "eff09f29",
   "metadata": {},
   "outputs": [
    {
     "name": "stderr",
     "output_type": "stream",
     "text": [
      "C:\\software\\anaconda\\envs\\pytorch-gpu\\lib\\site-packages\\ipykernel_launcher.py:12: UserWarning: FixedFormatter should only be used together with FixedLocator\n",
      "  if sys.path[0] == '':\n"
     ]
    },
    {
     "data": {
      "image/png": "[encoded data removed]",
      "text/plain": [
       "<Figure size 432x288 with 2 Axes>"
      ]
     },
     "metadata": {
      "needs_background": "light"
     },
     "output_type": "display_data"
    }
   ],
   "source": [
    "fbt = np.absolute(fbt)\n",
    "\n",
    "times  = np.arange(0, fbt.shape[0]) * dt\n",
    "freqs = np.arange(0,fbt.shape[1])\n",
    "\n",
    "fig, ax = plt.subplots()\n",
    "x, y = centers_to_edges(times * 1000, freqs)\n",
    "mesh = ax.pcolormesh(x, y, fbt.T, cmap='RdBu_r')\n",
    "ax.set_title('Time-Magnitude of b')\n",
    "ax.set(ylim=freqs[[0, -1]], xlabel='Time (ms)',\n",
    "       yticklabels=list(map(str,np.round(np.mean(fft,axis=0),2))),\n",
    "       ylabel='Frequency (Hz)')\n",
    "fig.colorbar(mesh)\n",
    "plt.tight_layout()\n",
    "\n",
    "plt.show()"
   ]
  },
  {
   "cell_type": "code",
   "execution_count": 11,
   "id": "464e2b58",
   "metadata": {},
   "outputs": [
    {
     "data": {
      "text/plain": [
       "<AxesSubplot:>"
      ]
     },
     "execution_count": 11,
     "metadata": {},
     "output_type": "execute_result"
    },
    {
     "data": {
      "image/png": "[encoded data removed]",
      "text/plain": [
       "<Figure size 432x288 with 2 Axes>"
      ]
     },
     "metadata": {
      "needs_background": "light"
     },
     "output_type": "display_data"
    }
   ],
   "source": [
    "import seaborn as sns\n",
    "\n",
    "times = np.arange(-60,240) * dt\n",
    "# xticklabels=['-0.2-0','0-0.2','0.2-0.4','0.4-0.6','0.6-0.8']\n",
    "fbt = np.absolute(fbt)\n",
    "\n",
    "sns.heatmap(data=fbt.T,\n",
    "            yticklabels=list(map(str,np.round(np.mean(fft,axis=0),2))))\n",
    "# xticklabels=list(map(str,np.round(np.arange(0,233,9)*dt,1)))"
   ]
  },
  {
   "cell_type": "code",
   "execution_count": 12,
   "id": "0eb2cfa7",
   "metadata": {},
   "outputs": [
    {
     "data": {
      "text/plain": [
       "0.27"
      ]
     },
     "execution_count": 12,
     "metadata": {},
     "output_type": "execute_result"
    }
   ],
   "source": [
    "81*dt"
   ]
  },
  {
   "cell_type": "code",
   "execution_count": 13,
   "id": "fb6eeccd",
   "metadata": {},
   "outputs": [
    {
     "data": {
      "text/plain": [
       "0.45"
      ]
     },
     "execution_count": 13,
     "metadata": {},
     "output_type": "execute_result"
    }
   ],
   "source": [
    "135*dt"
   ]
  },
  {
   "cell_type": "code",
   "execution_count": 14,
   "id": "c36391f7",
   "metadata": {},
   "outputs": [
    {
     "data": {
      "text/plain": [
       "0.6000000000000001"
      ]
     },
     "execution_count": 14,
     "metadata": {},
     "output_type": "execute_result"
    }
   ],
   "source": [
    "180*dt"
   ]
  },
  {
   "cell_type": "code",
   "execution_count": 63,
   "id": "7cac1813",
   "metadata": {},
   "outputs": [],
   "source": [
    "fppack = []\n",
    "\n",
    "for i in range(0, len(aug_trial[0])-bidx+1): \n",
    "    seg_trial = aug_trial[:, i:bidx+i]\n",
    "    \n",
    "    dmd = DMD(svd_rank=0, tlsq_rank=100, exact=True, opt=True, rescale_mode='auto') \n",
    "    dmd.fit(seg_trial)\n",
    "    dmd_f = dmd.frequency / dt\n",
    "    dmd_b = dmd.amplitudes\n",
    "    dmd_phi = dmd.modes\n",
    "    \n",
    "    # DMD spectrum\n",
    "    dmd_p = np.diag(np.dot(dmd_phi.T.conj(), dmd_phi))\n",
    "    \n",
    "    idx = [i for i in range(len(dmd_f)) if dmd_f[i] > 0]\n",
    "    f = dmd_f[idx]          # 只包含正频率点\n",
    "    p = dmd_p[idx]\n",
    "    fp = list(zip(f[:11], p[:11]))\n",
    "    fp.sort(key=lambda x:x[0])\n",
    "    \n",
    "    fppack.append(fp)\n",
    "    "
   ]
  },
  {
   "cell_type": "code",
   "execution_count": 64,
   "id": "102d10d4",
   "metadata": {},
   "outputs": [
    {
     "name": "stdout",
     "output_type": "stream",
     "text": [
      "(232, 11, 2)\n",
      "(232, 11) (232, 11)\n"
     ]
    }
   ],
   "source": [
    "# print(len(fppack), len(fppack[99]))\n",
    "fppack = np.array(fppack)\n",
    "print(fppack.shape)\n",
    "mft, mpt = [], []\n",
    "for i in range(len(fppack)):\n",
    "    mft.append((fppack[i][:,0].real))\n",
    "    mpt.append((fppack[i][:,1].real))\n",
    "mft = np.array(mft)\n",
    "mpt = np.array(mpt)\n",
    "print(mft.shape, mpt.shape)"
   ]
  },
  {
   "cell_type": "code",
   "execution_count": 74,
   "id": "faaf050b",
   "metadata": {},
   "outputs": [
    {
     "name": "stderr",
     "output_type": "stream",
     "text": [
      "C:\\software\\anaconda\\envs\\pytorch-gpu\\lib\\site-packages\\ipykernel_launcher.py:10: UserWarning: FixedFormatter should only be used together with FixedLocator\n",
      "  # Remove the CWD from sys.path while we load stuff.\n"
     ]
    },
    {
     "data": {
      "image/png": "[encoded data removed]",
      "text/plain": [
       "<Figure size 432x288 with 2 Axes>"
      ]
     },
     "metadata": {
      "needs_background": "light"
     },
     "output_type": "display_data"
    }
   ],
   "source": [
    "times  = np.arange(0, mpt.shape[0]) * dt\n",
    "freqs = np.arange(0,mpt.shape[1])\n",
    "\n",
    "fig, ax = plt.subplots()\n",
    "x, y = centers_to_edges(times * 1000, freqs)\n",
    "mesh = ax.pcolormesh(x, y, mpt.T, cmap='RdBu_r')\n",
    "ax.set_title('Time-Magnitude of Phi')\n",
    "ax.set(ylim=freqs[[0, -1]], xlabel='Time (ms)',\n",
    "       yticklabels=list(map(str,np.round(np.mean(mft,axis=0),2))),\n",
    "       ylabel='Frequency (Hz)')\n",
    "fig.colorbar(mesh)\n",
    "plt.tight_layout()\n",
    "\n",
    "plt.show()"
   ]
  },
  {
   "cell_type": "code",
   "execution_count": 14,
   "id": "c7412631",
   "metadata": {},
   "outputs": [
    {
     "data": {
      "text/plain": [
       "<AxesSubplot:>"
      ]
     },
     "execution_count": 14,
     "metadata": {},
     "output_type": "execute_result"
    },
    {
     "data": {
      "image/png": "[encoded data removed]",
      "text/plain": [
       "<Figure size 432x288 with 2 Axes>"
      ]
     },
     "metadata": {
      "needs_background": "light"
     },
     "output_type": "display_data"
    }
   ],
   "source": [
    "import seaborn as sns\n",
    "\n",
    "# xticklabels=['-0.2-0','0-0.2','0.2-0.4','0.4-0.6','0.6-0.8']\n",
    "\n",
    "sns.heatmap(data=mpt.T,\n",
    "            yticklabels=list(map(str,np.round(np.mean(mft,axis=0),2))))\n",
    "# xticklabels=list(map(str,np.round(np.arange(0,233,9)*dt,1)))"
   ]
  },
  {
   "cell_type": "code",
   "execution_count": 15,
   "id": "9dc5336f",
   "metadata": {},
   "outputs": [
    {
     "name": "stderr",
     "output_type": "stream",
     "text": [
      "C:\\software\\anaconda\\envs\\pytorch-gpu\\lib\\site-packages\\pydmd\\dmdbase.py:351: UserWarning: Input data matrix X has condition number 939438146.5295485. Consider preprocessing data, passing in augmented data matrix, or regularization methods.\n",
      "  cond_number\n"
     ]
    },
    {
     "data": {
      "image/png": "[encoded data removed]",
      "text/plain": [
       "<Figure size 432x288 with 1 Axes>"
      ]
     },
     "metadata": {
      "needs_background": "light"
     },
     "output_type": "display_data"
    }
   ],
   "source": [
    "# 整个trial的DMD spectrum\n",
    "dmd = DMD(svd_rank=0, tlsq_rank=100, exact=True, opt=True, rescale_mode='auto') \n",
    "dmd.fit(aug_trial)\n",
    "dmd_f = dmd.frequency / dt\n",
    "dmd_b = dmd.amplitudes\n",
    "dmd_phi = dmd.modes\n",
    "    \n",
    "# DMD spectrum\n",
    "dmd_p = np.diag(np.dot(dmd_phi.T.conj(), dmd_phi))\n",
    "    \n",
    "idx = [i for i in range(len(dmd_f)) if dmd_f[i] > 0]\n",
    "f = dmd_f[idx]          # 只包含正频率点\n",
    "p = dmd_p[idx]\n",
    "\n",
    "plt.stem(f, abs(p))  # /sum(abs(p))\n",
    "plt.xlabel('Frequency(Hz)')\n",
    "plt.title('DMD spectrum')\n",
    "plt.show()"
   ]
  },
  {
   "cell_type": "code",
   "execution_count": 16,
   "id": "52ae4195",
   "metadata": {},
   "outputs": [
    {
     "data": {
      "image/png": "[encoded data removed]",
      "text/plain": [
       "<Figure size 432x288 with 1 Axes>"
      ]
     },
     "metadata": {
      "needs_background": "light"
     },
     "output_type": "display_data"
    }
   ],
   "source": [
    "# FFT spectrum\n",
    "from scipy.fftpack import fft\n",
    "\n",
    "timesteps = trial.shape[1]\n",
    "srate = 1/dt\n",
    "nelectrodes = 64\n",
    "# 求出信号长度的下一个最近二次幂\n",
    "# 类似于MATLAB 中的Nextpower2(), 为了更加精确快速的进行傅里叶变换\n",
    "NFFT = np.power(2, np.ceil(np.log2(timesteps)))\n",
    "f_fft = srate/2*np.linspace(0, 1, int(NFFT/2+1))\n",
    "\n",
    "fftp = []\n",
    "for i in range(nelectrodes): \n",
    "    fftp.append(fft(trial[i, :], int(NFFT)))\n",
    "    plt.plot(f_fft, 2*abs(fftp[i][0:int(NFFT/2+1)]), color='gray')\n",
    "fftp = np.array(fftp)\n",
    "plt.plot(f_fft, np.mean(2*abs(fftp[:, 0:int(NFFT/2+1)]), 0), color='black', linewidth=2)\n",
    "plt.xlabel('Frequency(Hz)')\n",
    "plt.title('FFT spectrum')\n",
    "plt.show()"
   ]
  },
  {
   "cell_type": "code",
   "execution_count": 17,
   "id": "15a6fca1",
   "metadata": {},
   "outputs": [],
   "source": [
    "from mne.baseline import rescale\n",
    "from mne.time_frequency import (tfr_multitaper, tfr_stockwell, tfr_morlet,\n",
    "                                tfr_array_morlet)\n",
    "from mne.viz import centers_to_edges"
   ]
  },
  {
   "cell_type": "code",
   "execution_count": 67,
   "id": "9d1996a2",
   "metadata": {},
   "outputs": [
    {
     "name": "stdout",
     "output_type": "stream",
     "text": [
      "(1, 64, 300)\n",
      "(1, 64, 30, 300)\n"
     ]
    }
   ],
   "source": [
    "epoch_trial = np.array([trial])\n",
    "print(epoch_trial.shape)   #  (n_epochs, n_channels, n_times)\n",
    "freqs = np.arange(0.1, 150., 5.)\n",
    "n_cycles = freqs / 2.\n",
    "vmin, vmax = -3., 3.  # color limits.\n",
    "\n",
    "power = tfr_array_morlet(epoch_trial, sfreq=sampleRate,\n",
    "                         freqs=freqs, n_cycles=n_cycles,\n",
    "                        output='power')\n",
    "# (n_epochs, n_channels, n_freqs, n_times)\n",
    "print(power.shape)"
   ]
  },
  {
   "cell_type": "code",
   "execution_count": 68,
   "id": "ba740e31",
   "metadata": {},
   "outputs": [
    {
     "data": {
      "image/png": "[encoded data removed]",
      "text/plain": [
       "<Figure size 432x288 with 2 Axes>"
      ]
     },
     "metadata": {
      "needs_background": "light"
     },
     "output_type": "display_data"
    }
   ],
   "source": [
    "times = np.arange(-60,240) * dt\n",
    "\n",
    "fig, ax = plt.subplots()\n",
    "x, y = centers_to_edges(times * 1000, freqs)\n",
    "mesh = ax.pcolormesh(x, y, power[0][46], cmap='RdBu_r')\n",
    "ax.set_title('Time-frequency on channel FCz (Morlet)')\n",
    "ax.set(ylim=freqs[[0, -1]], xlabel='Time (ms)', ylabel='Frequency(Hz)')\n",
    "fig.colorbar(mesh)\n",
    "plt.tight_layout()\n",
    "\n",
    "plt.show()"
   ]
  },
  {
   "cell_type": "code",
   "execution_count": 71,
   "id": "65c25e8d",
   "metadata": {},
   "outputs": [
    {
     "data": {
      "image/png": "[encoded data removed]",
      "text/plain": [
       "<Figure size 432x288 with 2 Axes>"
      ]
     },
     "metadata": {
      "needs_background": "light"
     },
     "output_type": "display_data"
    }
   ],
   "source": [
    "times = np.arange(-60,240) * dt\n",
    "\n",
    "fig, ax = plt.subplots()\n",
    "x, y = centers_to_edges(times * 1000, freqs)\n",
    "mesh = ax.pcolormesh(x, y, power[0][46], cmap='RdBu_r', vmin=-3.,vmax=3.)\n",
    "ax.set_title('Time-frequency on channel FCz (Morlet)')\n",
    "ax.set(ylim=freqs[[0, -1]], xlabel='Time (ms)', ylabel='Frequency(Hz)')\n",
    "fig.colorbar(mesh)\n",
    "plt.tight_layout()\n",
    "\n",
    "plt.show()"
   ]
  },
  {
   "cell_type": "code",
   "execution_count": null,
   "id": "be5035f8",
   "metadata": {},
   "outputs": [],
   "source": []
  }
 ],
 "metadata": {
  "kernelspec": {
   "display_name": "pytorch",
   "language": "python",
   "name": "pytorch"
  },
  "language_info": {
   "codemirror_mode": {
    "name": "ipython",
    "version": 3
   },
   "file_extension": ".py",
   "mimetype": "text/x-python",
   "name": "python",
   "nbconvert_exporter": "python",
   "pygments_lexer": "ipython3",
   "version": "3.7.12"
  }
 },
 "nbformat": 4,
 "nbformat_minor": 5
}
